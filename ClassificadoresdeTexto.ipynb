{
  "nbformat": 4,
  "nbformat_minor": 0,
  "metadata": {
    "colab": {
      "provenance": []
    },
    "kernelspec": {
      "name": "python3",
      "display_name": "Python 3"
    },
    "language_info": {
      "name": "python"
    }
  },
  "cells": [
    {
      "cell_type": "code",
      "execution_count": null,
      "metadata": {
        "id": "r9MuCAxIDDlN"
      },
      "outputs": [],
      "source": [
        "from sklearn.datasets import fetch_20newsgroups # dataset de texto para classificação contendo 20 classes\n",
        "import pandas as pd \n",
        "from sklearn.feature_extraction.text import CountVectorizer, TfidfTransformer # carrega Vectorizer e TFIDF\n",
        "from sklearn.naive_bayes import MultinomialNB # algoritmo do Naive Bayes\n",
        "from sklearn.pipeline import Pipeline # Cria pipeline contendo todas as transformações e modelo\n",
        "from nltk.stem.snowball import SnowballStemmer # Função que retorna a palavra a sua raiz\n",
        "import numpy as np\n",
        "from sklearn.linear_model import SGDClassifier # Algoritmo Gradient Descendente Stocastico\n",
        "from sklearn.model_selection import GridSearchCV\n",
        "import nltk \n",
        "from sklearn.metrics import f1_score, accuracy_score, confusion_matrix, classification_report, ConfusionMatrixDisplay\n",
        "import warnings\n",
        "import matplotlib.pyplot as plt \n",
        "\n",
        "warnings.simplefilter('ignore')\n",
        "#nltk.download()"
      ]
    },
    {
      "cell_type": "code",
      "source": [
        "newsgroups = fetch_20newsgroups(subset='train') # Carrega o dataset de treinamento do fetch 20 news groups"
      ],
      "metadata": {
        "id": "asSSOgwPDNL4"
      },
      "execution_count": null,
      "outputs": []
    },
    {
      "cell_type": "code",
      "source": [
        "list(newsgroups.target_names) # retorna as classes disponíveis para treinamento"
      ],
      "metadata": {
        "colab": {
          "base_uri": "https://localhost:8080/"
        },
        "id": "tGN_RPlRDP24",
        "outputId": "85125490-6b05-4595-bc56-cc26a9545540"
      },
      "execution_count": null,
      "outputs": [
        {
          "output_type": "execute_result",
          "data": {
            "text/plain": [
              "['alt.atheism',\n",
              " 'comp.graphics',\n",
              " 'comp.os.ms-windows.misc',\n",
              " 'comp.sys.ibm.pc.hardware',\n",
              " 'comp.sys.mac.hardware',\n",
              " 'comp.windows.x',\n",
              " 'misc.forsale',\n",
              " 'rec.autos',\n",
              " 'rec.motorcycles',\n",
              " 'rec.sport.baseball',\n",
              " 'rec.sport.hockey',\n",
              " 'sci.crypt',\n",
              " 'sci.electronics',\n",
              " 'sci.med',\n",
              " 'sci.space',\n",
              " 'soc.religion.christian',\n",
              " 'talk.politics.guns',\n",
              " 'talk.politics.mideast',\n",
              " 'talk.politics.misc',\n",
              " 'talk.religion.misc']"
            ]
          },
          "metadata": {},
          "execution_count": 3
        }
      ]
    },
    {
      "cell_type": "code",
      "source": [
        "categories = ['sci.space', 'sci.electronics', 'talk.religion.misc', 'comp.sys.mac.hardware', 'sci.med', 'talk.politics.misc', 'talk.politics.guns', 'alt.atheism', 'talk.politics.mideast', 'rec.motorcycles'] # Lista com as classes que vamos trabalhar\n",
        "df_train = fetch_20newsgroups(subset='train', categories=categories, shuffle=True, random_state=42)\n",
        "df_test = fetch_20newsgroups(subset='test', categories=categories, shuffle=True)"
      ],
      "metadata": {
        "id": "ts1GmLQcDdTA"
      },
      "execution_count": null,
      "outputs": []
    },
    {
      "cell_type": "code",
      "source": [
        "df_train.target_names"
      ],
      "metadata": {
        "colab": {
          "base_uri": "https://localhost:8080/"
        },
        "id": "0wDdJ6nkDlkA",
        "outputId": "ffd987b5-43c8-44e5-db81-b583c7d209ef"
      },
      "execution_count": null,
      "outputs": [
        {
          "output_type": "execute_result",
          "data": {
            "text/plain": [
              "['alt.atheism',\n",
              " 'comp.sys.mac.hardware',\n",
              " 'rec.motorcycles',\n",
              " 'sci.electronics',\n",
              " 'sci.med',\n",
              " 'sci.space',\n",
              " 'talk.politics.guns',\n",
              " 'talk.politics.mideast',\n",
              " 'talk.politics.misc',\n",
              " 'talk.religion.misc']"
            ]
          },
          "metadata": {},
          "execution_count": 40
        }
      ]
    },
    {
      "cell_type": "code",
      "source": [
        "print(\"\\n\".join(df_train.data[1].split(\"\\n\")[:30]))"
      ],
      "metadata": {
        "colab": {
          "base_uri": "https://localhost:8080/"
        },
        "id": "EVoqbZIuDwVH",
        "outputId": "543f3c8d-d2b0-4d68-ab13-ded375a3b8bc"
      },
      "execution_count": null,
      "outputs": [
        {
          "output_type": "stream",
          "name": "stdout",
          "text": [
            "From: ingles@engin.umich.edu (Ray Ingles)\n",
            "Subject: Re: Concerning God's Morality (was: Americans and Evolution)\n",
            "Organization: University of Michigan Engineering, Ann Arbor\n",
            "Lines: 110\n",
            "Distribution: world\n",
            "NNTP-Posting-Host: syndicoot.engin.umich.edu\n",
            "\n",
            "In article <1993Apr2.155057.808@batman.bmd.trw.com> jbrown@batman.bmd.trw.com writes:\n",
            "[why do babies get diseases, etc.]\n",
            ">What God did create was life according to a protein code which is\n",
            ">mutable and can evolve.  Without delving into a deep discussion of\n",
            ">creationism vs evolutionism,\n",
            "\n",
            " Here's the (main) problem. The scenario you outline is reasonably \n",
            "consistent, but all the evidence that I am familiar with not only does\n",
            "not support it, but indicates something far different. The Earth, by\n",
            "latest estimates, is about 4.6 billion years old, and has had life for\n",
            "about 3.5 billion of those years. Humans have only been around for (at\n",
            "most) about 200,000 years. But, the fossil evidence inidcates that life\n",
            "has been changing and evolving, and, in fact, disease-ridden, long before\n",
            "there were people. (Yes, there are fossils that show signs of disease...\n",
            "mostly bone disorders, of course, but there are some.) Heck, not just\n",
            "fossil evidence, but what we've been able to glean from genetic study shows\n",
            "that disease has been around for a long, long time. If human sin was what\n",
            "brought about disease (at least, indirectly, though necessarily) then\n",
            "how could it exist before humans?\n",
            "\n",
            ">                             God created the original genetic code\n",
            ">perfect and without flaw.  And without getting sidetracked into\n",
            ">the theological ramifications of the original sin, the main effect\n"
          ]
        }
      ]
    },
    {
      "cell_type": "markdown",
      "source": [
        "# Feature Enginnering"
      ],
      "metadata": {
        "id": "sQGYZPu1HWFU"
      }
    },
    {
      "cell_type": "code",
      "source": [
        "count_vect = CountVectorizer()\n",
        "X_train_counts = count_vect.fit_transform(df_train.data)\n",
        "X_train_counts.shape"
      ],
      "metadata": {
        "colab": {
          "base_uri": "https://localhost:8080/"
        },
        "id": "JqOdXVF8DxY3",
        "outputId": "f9034a2b-7686-4a5c-d210-d04e866d543d"
      },
      "execution_count": null,
      "outputs": [
        {
          "output_type": "execute_result",
          "data": {
            "text/plain": [
              "(5386, 64650)"
            ]
          },
          "metadata": {},
          "execution_count": 42
        }
      ]
    },
    {
      "cell_type": "code",
      "source": [
        "tfidf_transformer = TfidfTransformer() \n",
        "X_train_tfidf = tfidf_transformer.fit_transform(X_train_counts)"
      ],
      "metadata": {
        "id": "jJ0LoUdjD3QH"
      },
      "execution_count": null,
      "outputs": []
    },
    {
      "cell_type": "markdown",
      "source": [
        "# Abordagem I\n",
        "**Treinamento do modelo**"
      ],
      "metadata": {
        "id": "wodpE5bZEC_f"
      }
    },
    {
      "cell_type": "code",
      "source": [
        "clf = MultinomialNB()\n",
        "clf.fit(X_train_tfidf, df_train.target)"
      ],
      "metadata": {
        "colab": {
          "base_uri": "https://localhost:8080/",
          "height": 74
        },
        "id": "3g0wpRHED5Yv",
        "outputId": "e2f451ea-3da0-4f29-f9d9-61dd1002e7bb"
      },
      "execution_count": null,
      "outputs": [
        {
          "output_type": "execute_result",
          "data": {
            "text/plain": [
              "MultinomialNB()"
            ],
            "text/html": [
              "<style>#sk-container-id-4 {color: black;background-color: white;}#sk-container-id-4 pre{padding: 0;}#sk-container-id-4 div.sk-toggleable {background-color: white;}#sk-container-id-4 label.sk-toggleable__label {cursor: pointer;display: block;width: 100%;margin-bottom: 0;padding: 0.3em;box-sizing: border-box;text-align: center;}#sk-container-id-4 label.sk-toggleable__label-arrow:before {content: \"▸\";float: left;margin-right: 0.25em;color: #696969;}#sk-container-id-4 label.sk-toggleable__label-arrow:hover:before {color: black;}#sk-container-id-4 div.sk-estimator:hover label.sk-toggleable__label-arrow:before {color: black;}#sk-container-id-4 div.sk-toggleable__content {max-height: 0;max-width: 0;overflow: hidden;text-align: left;background-color: #f0f8ff;}#sk-container-id-4 div.sk-toggleable__content pre {margin: 0.2em;color: black;border-radius: 0.25em;background-color: #f0f8ff;}#sk-container-id-4 input.sk-toggleable__control:checked~div.sk-toggleable__content {max-height: 200px;max-width: 100%;overflow: auto;}#sk-container-id-4 input.sk-toggleable__control:checked~label.sk-toggleable__label-arrow:before {content: \"▾\";}#sk-container-id-4 div.sk-estimator input.sk-toggleable__control:checked~label.sk-toggleable__label {background-color: #d4ebff;}#sk-container-id-4 div.sk-label input.sk-toggleable__control:checked~label.sk-toggleable__label {background-color: #d4ebff;}#sk-container-id-4 input.sk-hidden--visually {border: 0;clip: rect(1px 1px 1px 1px);clip: rect(1px, 1px, 1px, 1px);height: 1px;margin: -1px;overflow: hidden;padding: 0;position: absolute;width: 1px;}#sk-container-id-4 div.sk-estimator {font-family: monospace;background-color: #f0f8ff;border: 1px dotted black;border-radius: 0.25em;box-sizing: border-box;margin-bottom: 0.5em;}#sk-container-id-4 div.sk-estimator:hover {background-color: #d4ebff;}#sk-container-id-4 div.sk-parallel-item::after {content: \"\";width: 100%;border-bottom: 1px solid gray;flex-grow: 1;}#sk-container-id-4 div.sk-label:hover label.sk-toggleable__label {background-color: #d4ebff;}#sk-container-id-4 div.sk-serial::before {content: \"\";position: absolute;border-left: 1px solid gray;box-sizing: border-box;top: 0;bottom: 0;left: 50%;z-index: 0;}#sk-container-id-4 div.sk-serial {display: flex;flex-direction: column;align-items: center;background-color: white;padding-right: 0.2em;padding-left: 0.2em;position: relative;}#sk-container-id-4 div.sk-item {position: relative;z-index: 1;}#sk-container-id-4 div.sk-parallel {display: flex;align-items: stretch;justify-content: center;background-color: white;position: relative;}#sk-container-id-4 div.sk-item::before, #sk-container-id-4 div.sk-parallel-item::before {content: \"\";position: absolute;border-left: 1px solid gray;box-sizing: border-box;top: 0;bottom: 0;left: 50%;z-index: -1;}#sk-container-id-4 div.sk-parallel-item {display: flex;flex-direction: column;z-index: 1;position: relative;background-color: white;}#sk-container-id-4 div.sk-parallel-item:first-child::after {align-self: flex-end;width: 50%;}#sk-container-id-4 div.sk-parallel-item:last-child::after {align-self: flex-start;width: 50%;}#sk-container-id-4 div.sk-parallel-item:only-child::after {width: 0;}#sk-container-id-4 div.sk-dashed-wrapped {border: 1px dashed gray;margin: 0 0.4em 0.5em 0.4em;box-sizing: border-box;padding-bottom: 0.4em;background-color: white;}#sk-container-id-4 div.sk-label label {font-family: monospace;font-weight: bold;display: inline-block;line-height: 1.2em;}#sk-container-id-4 div.sk-label-container {text-align: center;}#sk-container-id-4 div.sk-container {/* jupyter's `normalize.less` sets `[hidden] { display: none; }` but bootstrap.min.css set `[hidden] { display: none !important; }` so we also need the `!important` here to be able to override the default hidden behavior on the sphinx rendered scikit-learn.org. See: https://github.com/scikit-learn/scikit-learn/issues/21755 */display: inline-block !important;position: relative;}#sk-container-id-4 div.sk-text-repr-fallback {display: none;}</style><div id=\"sk-container-id-4\" class=\"sk-top-container\"><div class=\"sk-text-repr-fallback\"><pre>MultinomialNB()</pre><b>In a Jupyter environment, please rerun this cell to show the HTML representation or trust the notebook. <br />On GitHub, the HTML representation is unable to render, please try loading this page with nbviewer.org.</b></div><div class=\"sk-container\" hidden><div class=\"sk-item\"><div class=\"sk-estimator sk-toggleable\"><input class=\"sk-toggleable__control sk-hidden--visually\" id=\"sk-estimator-id-4\" type=\"checkbox\" checked><label for=\"sk-estimator-id-4\" class=\"sk-toggleable__label sk-toggleable__label-arrow\">MultinomialNB</label><div class=\"sk-toggleable__content\"><pre>MultinomialNB()</pre></div></div></div></div></div>"
            ]
          },
          "metadata": {},
          "execution_count": 44
        }
      ]
    },
    {
      "cell_type": "code",
      "source": [
        "clf_1 = Pipeline([\n",
        "    ('vect', CountVectorizer()),    # Passo 1, aplicar o count vectorizer nos textos \n",
        "    ('tfidf', TfidfTransformer()),  # Passo 2, aplicar o TFIDF nos textos\n",
        "    ('clf', MultinomialNB())])      # Passo 3, aplicar o algoritmo Naive Bayes"
      ],
      "metadata": {
        "id": "jfJ7SuYnEH7_"
      },
      "execution_count": null,
      "outputs": []
    },
    {
      "cell_type": "code",
      "source": [
        "clf_trained = clf_1.fit(df_train.data, df_train.target)"
      ],
      "metadata": {
        "id": "Mrsaav09ENqQ"
      },
      "execution_count": null,
      "outputs": []
    },
    {
      "cell_type": "code",
      "source": [
        "pred = clf_trained.predict(df_test.data)"
      ],
      "metadata": {
        "id": "zUKN__o9ETif"
      },
      "execution_count": null,
      "outputs": []
    },
    {
      "cell_type": "code",
      "source": [
        "acc = np.mean(pred == df_test.target)\n",
        "print('>>>> Acurácia: ', acc)"
      ],
      "metadata": {
        "colab": {
          "base_uri": "https://localhost:8080/"
        },
        "id": "TR5kHKS5EVBn",
        "outputId": "cc168471-307e-4310-957f-11427dc94340"
      },
      "execution_count": null,
      "outputs": [
        {
          "output_type": "stream",
          "name": "stdout",
          "text": [
            ">>>> Acurácia:  0.8262688232013385\n"
          ]
        }
      ]
    },
    {
      "cell_type": "code",
      "source": [
        "creport = classification_report(df_test.target, pred, target_names=df_test.target_names)\n",
        "print(creport)"
      ],
      "metadata": {
        "colab": {
          "base_uri": "https://localhost:8080/"
        },
        "id": "dqj-plOeEXdo",
        "outputId": "ce8d5e2b-42e0-4a19-dd69-ae862337c59a"
      },
      "execution_count": null,
      "outputs": [
        {
          "output_type": "stream",
          "name": "stdout",
          "text": [
            "                       precision    recall  f1-score   support\n",
            "\n",
            "          alt.atheism       0.73      0.84      0.78       319\n",
            "comp.sys.mac.hardware       0.96      0.92      0.94       385\n",
            "      rec.motorcycles       0.93      0.98      0.95       398\n",
            "      sci.electronics       0.92      0.78      0.85       393\n",
            "              sci.med       0.90      0.87      0.88       396\n",
            "            sci.space       0.87      0.94      0.90       394\n",
            "   talk.politics.guns       0.55      0.97      0.71       364\n",
            "talk.politics.mideast       0.86      0.97      0.91       376\n",
            "   talk.politics.misc       0.93      0.47      0.62       310\n",
            "   talk.religion.misc       0.96      0.25      0.40       251\n",
            "\n",
            "             accuracy                           0.83      3586\n",
            "            macro avg       0.86      0.80      0.80      3586\n",
            "         weighted avg       0.86      0.83      0.82      3586\n",
            "\n"
          ]
        }
      ]
    },
    {
      "cell_type": "markdown",
      "source": [
        "# Tuning de parametros\n",
        "Modelo usando Naive bayes com Grid Search"
      ],
      "metadata": {
        "id": "9HGYMskSGXhF"
      }
    },
    {
      "cell_type": "code",
      "source": [
        "parameters = {'vect__ngram_range': [(1, 1), (1, 2)], 'tfidf__use_idf': (True, False), 'clf__alpha': (1e-2, 1e-3)}"
      ],
      "metadata": {
        "id": "1WzflM_UEZ-3"
      },
      "execution_count": null,
      "outputs": []
    },
    {
      "cell_type": "code",
      "source": [
        "gs_clf = GridSearchCV(clf_trained, parameters, n_jobs=-1) # Define o grid search para buscar os melhores parametros \n",
        "gs_clf = gs_clf.fit(df_train.data, df_train.target) # treinamento do modelo "
      ],
      "metadata": {
        "id": "-PbPq79cGmCk"
      },
      "execution_count": null,
      "outputs": []
    },
    {
      "cell_type": "code",
      "source": [
        "# Para ver a melhor pontuação média e os parâmetros, execute o seguinte código\n",
        "print(gs_clf.best_score_)\n",
        "gs_clf.best_params_"
      ],
      "metadata": {
        "colab": {
          "base_uri": "https://localhost:8080/"
        },
        "id": "cBomNFJ6Fxed",
        "outputId": "02279bf0-c1e3-4942-a916-1dac5d1dbf43"
      },
      "execution_count": null,
      "outputs": [
        {
          "output_type": "stream",
          "name": "stdout",
          "text": [
            "0.9576680912932405\n"
          ]
        },
        {
          "output_type": "execute_result",
          "data": {
            "text/plain": [
              "{'clf__alpha': 0.01, 'tfidf__use_idf': True, 'vect__ngram_range': (1, 2)}"
            ]
          },
          "metadata": {},
          "execution_count": 54
        }
      ]
    },
    {
      "cell_type": "code",
      "source": [
        "pred = gs_clf.predict(df_test.data) # Faz predição no dado de teste"
      ],
      "metadata": {
        "id": "UWybNDSYHfrb"
      },
      "execution_count": null,
      "outputs": []
    },
    {
      "cell_type": "code",
      "source": [
        "acc = np.mean(pred == df_test.target)\n",
        "print('>>>> Acurácia: ', acc)"
      ],
      "metadata": {
        "colab": {
          "base_uri": "https://localhost:8080/"
        },
        "id": "Ht4TeFstHjcD",
        "outputId": "a535c550-3798-4162-ecf3-f48ed1267314"
      },
      "execution_count": null,
      "outputs": [
        {
          "output_type": "stream",
          "name": "stdout",
          "text": [
            ">>>> Acurácia:  0.8747908533184606\n"
          ]
        }
      ]
    },
    {
      "cell_type": "code",
      "source": [
        "creport = classification_report(df_test.target, pred, target_names=df_test.target_names)\n",
        "print(creport)"
      ],
      "metadata": {
        "colab": {
          "base_uri": "https://localhost:8080/"
        },
        "id": "8Tg4KVANHnm7",
        "outputId": "daf10f5c-8360-4829-ed35-d67387f4dac2"
      },
      "execution_count": null,
      "outputs": [
        {
          "output_type": "stream",
          "name": "stdout",
          "text": [
            "                       precision    recall  f1-score   support\n",
            "\n",
            "          alt.atheism       0.82      0.87      0.85       319\n",
            "comp.sys.mac.hardware       0.89      0.94      0.91       385\n",
            "      rec.motorcycles       0.95      0.97      0.96       398\n",
            "      sci.electronics       0.90      0.85      0.87       393\n",
            "              sci.med       0.90      0.86      0.88       396\n",
            "            sci.space       0.91      0.93      0.92       394\n",
            "   talk.politics.guns       0.77      0.93      0.84       364\n",
            "talk.politics.mideast       0.96      0.95      0.95       376\n",
            "   talk.politics.misc       0.81      0.67      0.73       310\n",
            "   talk.religion.misc       0.80      0.66      0.72       251\n",
            "\n",
            "             accuracy                           0.87      3586\n",
            "            macro avg       0.87      0.86      0.86      3586\n",
            "         weighted avg       0.88      0.87      0.87      3586\n",
            "\n"
          ]
        }
      ]
    },
    {
      "cell_type": "markdown",
      "source": [
        "# Abordagem II"
      ],
      "metadata": {
        "id": "eWkkbvi_HtGj"
      }
    },
    {
      "cell_type": "code",
      "source": [
        "# Pipeline de machine learning \n",
        "clf_2 = Pipeline([\n",
        "    ('vect', CountVectorizer()), # Passo 1, aplicar o count vectorizer nos textos \n",
        "    ('tfidf', TfidfTransformer()), # Passo 2, aplicar o TFIDF nos textos\n",
        "    ('clf-svm', SGDClassifier(loss='hinge', penalty='l2', alpha=1e-3, max_iter=25, random_state=62))]) # Passo 3, aplicar o algoritmo Naive Bayes"
      ],
      "metadata": {
        "id": "LkvhznDnHrSb"
      },
      "execution_count": null,
      "outputs": []
    },
    {
      "cell_type": "code",
      "source": [
        "svm_trained = clf_2.fit(df_train.data, df_train.target) # realiza o treinamento do modelo no pipeline"
      ],
      "metadata": {
        "id": "MUQXYTzBH9Z6"
      },
      "execution_count": null,
      "outputs": []
    },
    {
      "cell_type": "code",
      "source": [
        "pred = svm_trained.predict(df_test.data) # Faz predição no dado de teste"
      ],
      "metadata": {
        "id": "smgOgaYaIDVr"
      },
      "execution_count": null,
      "outputs": []
    },
    {
      "cell_type": "code",
      "source": [
        "acc = np.mean(pred == df_test.target)\n",
        "print('>>>> Acurácia: ', acc)"
      ],
      "metadata": {
        "colab": {
          "base_uri": "https://localhost:8080/"
        },
        "id": "iFCTn5P9IFFS",
        "outputId": "7f988f8b-d234-4b32-d22d-8b122931444f"
      },
      "execution_count": null,
      "outputs": [
        {
          "output_type": "stream",
          "name": "stdout",
          "text": [
            ">>>> Acurácia:  0.8580591187953152\n"
          ]
        }
      ]
    },
    {
      "cell_type": "markdown",
      "source": [
        "# Tuning de parametros\n",
        "\n",
        "**Modelo usando SGD com Grid Search**"
      ],
      "metadata": {
        "id": "wLGK_Gi0IIYh"
      }
    },
    {
      "cell_type": "code",
      "source": [
        "parameters_svm = {'vect__ngram_range': [(1, 1), (1, 2)], 'tfidf__use_idf': (True, False),'clf-svm__alpha': (1e-2, 1e-3)}"
      ],
      "metadata": {
        "id": "1rkNeikcIHMa"
      },
      "execution_count": null,
      "outputs": []
    },
    {
      "cell_type": "code",
      "source": [
        "gs_clf_svm = GridSearchCV(svm_trained, parameters_svm, n_jobs=-1)\n",
        "gs_clf_svm = gs_clf_svm.fit(df_train.data, df_train.target)"
      ],
      "metadata": {
        "id": "Vyvp1VMVIRDC"
      },
      "execution_count": null,
      "outputs": []
    },
    {
      "cell_type": "code",
      "source": [
        "# Assertividade e melhores parametros\n",
        "print(gs_clf_svm.best_score_)\n",
        "gs_clf_svm.best_params_"
      ],
      "metadata": {
        "colab": {
          "base_uri": "https://localhost:8080/"
        },
        "id": "ypxVs8HnISyq",
        "outputId": "ce55d24f-0f65-4824-f985-b1dc057796db"
      },
      "execution_count": null,
      "outputs": [
        {
          "output_type": "stream",
          "name": "stdout",
          "text": [
            "0.9391029848252291\n"
          ]
        },
        {
          "output_type": "execute_result",
          "data": {
            "text/plain": [
              "{'clf-svm__alpha': 0.001, 'tfidf__use_idf': True, 'vect__ngram_range': (1, 2)}"
            ]
          },
          "metadata": {},
          "execution_count": 64
        }
      ]
    },
    {
      "cell_type": "code",
      "source": [
        "# Assertividade e melhores parametros\n",
        "print(gs_clf_svm.best_score_)\n",
        "gs_clf_svm.best_params_"
      ],
      "metadata": {
        "colab": {
          "base_uri": "https://localhost:8080/"
        },
        "id": "nEGkNJicIUYq",
        "outputId": "8bc18c6e-4895-4e1c-a76c-e7e13bc1e5ee"
      },
      "execution_count": null,
      "outputs": [
        {
          "output_type": "stream",
          "name": "stdout",
          "text": [
            "0.9391029848252291\n"
          ]
        },
        {
          "output_type": "execute_result",
          "data": {
            "text/plain": [
              "{'clf-svm__alpha': 0.001, 'tfidf__use_idf': True, 'vect__ngram_range': (1, 2)}"
            ]
          },
          "metadata": {},
          "execution_count": 65
        }
      ]
    },
    {
      "cell_type": "code",
      "source": [
        "acc = np.mean(pred == df_test.target)\n",
        "print('>>>> Acurácia: ', acc)"
      ],
      "metadata": {
        "colab": {
          "base_uri": "https://localhost:8080/"
        },
        "id": "9o_e6UE9IZs6",
        "outputId": "dba5ee35-7493-4213-b143-9e41d8849f6b"
      },
      "execution_count": null,
      "outputs": [
        {
          "output_type": "stream",
          "name": "stdout",
          "text": [
            ">>>> Acurácia:  0.8580591187953152\n"
          ]
        }
      ]
    },
    {
      "cell_type": "code",
      "source": [
        "creport = classification_report(df_test.target, pred, target_names=df_test.target_names)\n",
        "print(creport)"
      ],
      "metadata": {
        "colab": {
          "base_uri": "https://localhost:8080/"
        },
        "id": "vTquyvUEIbOB",
        "outputId": "a11ad1eb-47ae-4c55-c58a-6d765e589f95"
      },
      "execution_count": null,
      "outputs": [
        {
          "output_type": "stream",
          "name": "stdout",
          "text": [
            "                       precision    recall  f1-score   support\n",
            "\n",
            "          alt.atheism       0.76      0.82      0.78       319\n",
            "comp.sys.mac.hardware       0.87      0.95      0.91       385\n",
            "      rec.motorcycles       0.92      0.99      0.95       398\n",
            "      sci.electronics       0.91      0.81      0.86       393\n",
            "              sci.med       0.89      0.87      0.88       396\n",
            "            sci.space       0.91      0.97      0.94       394\n",
            "   talk.politics.guns       0.71      0.95      0.81       364\n",
            "talk.politics.mideast       0.94      0.92      0.93       376\n",
            "   talk.politics.misc       0.86      0.57      0.69       310\n",
            "   talk.religion.misc       0.82      0.57      0.67       251\n",
            "\n",
            "             accuracy                           0.86      3586\n",
            "            macro avg       0.86      0.84      0.84      3586\n",
            "         weighted avg       0.86      0.86      0.85      3586\n",
            "\n"
          ]
        }
      ]
    },
    {
      "cell_type": "markdown",
      "source": [
        "# Abordagem III\n",
        "\n",
        "**Remover os stopwords**"
      ],
      "metadata": {
        "id": "fT6nDv_RJBqx"
      }
    },
    {
      "cell_type": "code",
      "source": [
        "nb_clf_stp = Pipeline([\n",
        "    ('vect', CountVectorizer(stop_words='english')),    # Passo 1, aplicar o count vectorizer nos textos excluindo stopwords\n",
        "    ('tfidf', TfidfTransformer()),  # Passo 2, aplicar o TFIDF nos textos\n",
        "    ('clf', MultinomialNB())])      # Passo 3, aplicar o algoritmo Naive Bayes"
      ],
      "metadata": {
        "id": "F9Pm0-3_I-uR"
      },
      "execution_count": null,
      "outputs": []
    },
    {
      "cell_type": "code",
      "source": [
        "nb_clf_stp_trained = nb_clf_stp.fit(df_train.data, df_train.target) # realiza o treinamento do modelo no pipeline"
      ],
      "metadata": {
        "id": "FK2c7OlHJKdS"
      },
      "execution_count": null,
      "outputs": []
    },
    {
      "cell_type": "code",
      "source": [
        "pred = nb_clf_stp_trained.predict(df_test.data) # Faz predição no dado de teste"
      ],
      "metadata": {
        "id": "Ou3b_D4kJNep"
      },
      "execution_count": null,
      "outputs": []
    },
    {
      "cell_type": "code",
      "source": [
        "acc = np.mean(pred == df_test.target)\n",
        "print('Accuracy = ', acc)\n",
        "\n",
        "creport = classification_report(df_test.target, pred, target_names=df_test.target_names)\n",
        "print(creport)"
      ],
      "metadata": {
        "colab": {
          "base_uri": "https://localhost:8080/"
        },
        "id": "fekzibAtJQZa",
        "outputId": "f50bb57f-82f4-4879-806e-505fb5b8ce96"
      },
      "execution_count": null,
      "outputs": [
        {
          "output_type": "stream",
          "name": "stdout",
          "text": [
            "Accuracy =  0.8538761851645287\n",
            "                       precision    recall  f1-score   support\n",
            "\n",
            "          alt.atheism       0.77      0.87      0.82       319\n",
            "comp.sys.mac.hardware       0.92      0.94      0.93       385\n",
            "      rec.motorcycles       0.93      0.99      0.96       398\n",
            "      sci.electronics       0.91      0.83      0.87       393\n",
            "              sci.med       0.91      0.85      0.88       396\n",
            "            sci.space       0.87      0.97      0.91       394\n",
            "   talk.politics.guns       0.65      0.96      0.77       364\n",
            "talk.politics.mideast       0.91      0.97      0.94       376\n",
            "   talk.politics.misc       0.89      0.54      0.67       310\n",
            "   talk.religion.misc       0.95      0.41      0.57       251\n",
            "\n",
            "             accuracy                           0.85      3586\n",
            "            macro avg       0.87      0.83      0.83      3586\n",
            "         weighted avg       0.87      0.85      0.85      3586\n",
            "\n"
          ]
        }
      ]
    },
    {
      "cell_type": "code",
      "source": [
        "nb_clf_tuned = GridSearchCV(nb_clf_stp_trained, parameters, n_jobs=-1) # Define o grid search para buscar os melhores parametros \n",
        "nb_clf_tuned = nb_clf_tuned.fit(df_train.data, df_train.target) # treinamento do modelo "
      ],
      "metadata": {
        "id": "c_O08IlyJQ3p"
      },
      "execution_count": null,
      "outputs": []
    },
    {
      "cell_type": "code",
      "source": [
        "# Assertividade e melhores parametros\n",
        "print(nb_clf_tuned.best_score_)\n",
        "nb_clf_tuned.best_params_"
      ],
      "metadata": {
        "colab": {
          "base_uri": "https://localhost:8080/"
        },
        "id": "hDX9PeP8JRdR",
        "outputId": "85a8b1e8-7b0e-49b2-e406-2adf8e251e90"
      },
      "execution_count": null,
      "outputs": [
        {
          "output_type": "stream",
          "name": "stdout",
          "text": [
            "0.9550698273738465\n"
          ]
        },
        {
          "output_type": "execute_result",
          "data": {
            "text/plain": [
              "{'clf__alpha': 0.001, 'tfidf__use_idf': False, 'vect__ngram_range': (1, 2)}"
            ]
          },
          "metadata": {},
          "execution_count": 73
        }
      ]
    },
    {
      "cell_type": "code",
      "source": [
        "pred = nb_clf_tuned.predict(df_test.data) # Faz predição no dado de teste"
      ],
      "metadata": {
        "id": "KgXVG6DUJYV5"
      },
      "execution_count": null,
      "outputs": []
    },
    {
      "cell_type": "code",
      "source": [
        "acc = np.mean(pred == df_test.target)\n",
        "print('>>>> Acurácia: ', acc)"
      ],
      "metadata": {
        "colab": {
          "base_uri": "https://localhost:8080/"
        },
        "id": "vJVq1DTrJYiR",
        "outputId": "d0dd0dbb-1302-4c8a-db60-3302721470e2"
      },
      "execution_count": null,
      "outputs": [
        {
          "output_type": "stream",
          "name": "stdout",
          "text": [
            ">>>> Acurácia:  0.8742331288343558\n"
          ]
        }
      ]
    },
    {
      "cell_type": "code",
      "source": [
        "creport = classification_report(df_test.target, pred, target_names=df_test.target_names)\n",
        "print(creport)"
      ],
      "metadata": {
        "colab": {
          "base_uri": "https://localhost:8080/"
        },
        "id": "6PyyfI34JYvB",
        "outputId": "621277fe-a7e1-4a9f-9e18-cac7bf5a3b63"
      },
      "execution_count": null,
      "outputs": [
        {
          "output_type": "stream",
          "name": "stdout",
          "text": [
            "                       precision    recall  f1-score   support\n",
            "\n",
            "          alt.atheism       0.84      0.86      0.85       319\n",
            "comp.sys.mac.hardware       0.88      0.93      0.91       385\n",
            "      rec.motorcycles       0.94      0.97      0.96       398\n",
            "      sci.electronics       0.89      0.84      0.86       393\n",
            "              sci.med       0.89      0.85      0.87       396\n",
            "            sci.space       0.90      0.93      0.92       394\n",
            "   talk.politics.guns       0.82      0.92      0.87       364\n",
            "talk.politics.mideast       0.98      0.93      0.96       376\n",
            "   talk.politics.misc       0.79      0.69      0.73       310\n",
            "   talk.religion.misc       0.74      0.71      0.72       251\n",
            "\n",
            "             accuracy                           0.87      3586\n",
            "            macro avg       0.87      0.86      0.86      3586\n",
            "         weighted avg       0.87      0.87      0.87      3586\n",
            "\n"
          ]
        }
      ]
    },
    {
      "cell_type": "markdown",
      "source": [
        "# Abordagem IV\n",
        "**Stopword com SVM**"
      ],
      "metadata": {
        "id": "pYtBylcRKyKA"
      }
    },
    {
      "cell_type": "code",
      "source": [
        "# Pipeline de machine learning \n",
        "svm_stp_clf = Pipeline([\n",
        "    ('vect', CountVectorizer(stop_words='english')), # Passo 1, aplicar o count vectorizer nos textos \n",
        "    ('tfidf', TfidfTransformer()), # Passo 2, aplicar o TFIDF nos textos\n",
        "    ('clf-svm', SGDClassifier(loss='hinge', penalty='l2', alpha=1e-3, max_iter=25, random_state=62))]) # Passo 3, aplicar o algoritmo Naive Bayes"
      ],
      "metadata": {
        "id": "ezbEbmylJZVZ"
      },
      "execution_count": null,
      "outputs": []
    },
    {
      "cell_type": "code",
      "source": [
        "svm_stp_trained = svm_stp_clf.fit(df_train.data, df_train.target) # realiza o treinamento do modelo no pipeline"
      ],
      "metadata": {
        "id": "dKB87ylHJZgR"
      },
      "execution_count": null,
      "outputs": []
    },
    {
      "cell_type": "code",
      "source": [
        "pred = svm_stp_trained.predict(df_test.data) # Faz predição no dado de teste"
      ],
      "metadata": {
        "id": "kvdUFoQ-LMJ2"
      },
      "execution_count": null,
      "outputs": []
    },
    {
      "cell_type": "code",
      "source": [
        "acc = np.mean(pred == df_test.target)\n",
        "print('>>>> Acurácia: ', acc)"
      ],
      "metadata": {
        "colab": {
          "base_uri": "https://localhost:8080/"
        },
        "id": "Y5Il8ZL6LOum",
        "outputId": "4a9a05cc-c26a-42c6-d78a-fd5d8ea8b47d"
      },
      "execution_count": null,
      "outputs": [
        {
          "output_type": "stream",
          "name": "stdout",
          "text": [
            ">>>> Acurácia:  0.8622420524261015\n"
          ]
        }
      ]
    },
    {
      "cell_type": "code",
      "source": [
        "svm_stp_tun = GridSearchCV(svm_stp_trained, parameters_svm, n_jobs=-1)\n",
        "svm_stp_tun = svm_stp_tun.fit(df_train.data, df_train.target)"
      ],
      "metadata": {
        "id": "NxxSvNiALScm"
      },
      "execution_count": null,
      "outputs": []
    },
    {
      "cell_type": "code",
      "source": [
        "# Assertividade e melhores parametros\n",
        "print(svm_stp_tun.best_score_)\n",
        "svm_stp_tun.best_params_"
      ],
      "metadata": {
        "colab": {
          "base_uri": "https://localhost:8080/"
        },
        "id": "LT3xleeuLVFW",
        "outputId": "c0d7181f-6a7c-4d57-c4e0-fd4c82c267a9"
      },
      "execution_count": null,
      "outputs": [
        {
          "output_type": "stream",
          "name": "stdout",
          "text": [
            "0.9398461334394481\n"
          ]
        },
        {
          "output_type": "execute_result",
          "data": {
            "text/plain": [
              "{'clf-svm__alpha': 0.001, 'tfidf__use_idf': True, 'vect__ngram_range': (1, 2)}"
            ]
          },
          "metadata": {},
          "execution_count": 92
        }
      ]
    },
    {
      "cell_type": "code",
      "source": [
        "pred = svm_stp_tun.predict(df_test.data) # Faz predição no dado de teste"
      ],
      "metadata": {
        "id": "S8aB2zLmLYp2"
      },
      "execution_count": null,
      "outputs": []
    },
    {
      "cell_type": "code",
      "source": [
        "acc = np.mean(pred == df_test.target)\n",
        "print('>>>> Acurácia: ', acc)"
      ],
      "metadata": {
        "colab": {
          "base_uri": "https://localhost:8080/"
        },
        "id": "sZ1T-9mrLauH",
        "outputId": "70ea4e06-16d9-435d-dfb0-edac809b5c5c"
      },
      "execution_count": null,
      "outputs": [
        {
          "output_type": "stream",
          "name": "stdout",
          "text": [
            ">>>> Acurácia:  0.85861684327942\n"
          ]
        }
      ]
    },
    {
      "cell_type": "code",
      "source": [
        "creport = classification_report(df_test.target, pred, target_names=df_test.target_names)\n",
        "print(creport)"
      ],
      "metadata": {
        "colab": {
          "base_uri": "https://localhost:8080/"
        },
        "id": "yRhA4ALDLfVu",
        "outputId": "7ce22681-961b-4927-bb1f-717dc7153b9b"
      },
      "execution_count": null,
      "outputs": [
        {
          "output_type": "stream",
          "name": "stdout",
          "text": [
            "                       precision    recall  f1-score   support\n",
            "\n",
            "          alt.atheism       0.75      0.83      0.79       319\n",
            "comp.sys.mac.hardware       0.89      0.94      0.91       385\n",
            "      rec.motorcycles       0.92      0.99      0.95       398\n",
            "      sci.electronics       0.91      0.79      0.85       393\n",
            "              sci.med       0.89      0.83      0.86       396\n",
            "            sci.space       0.89      0.97      0.93       394\n",
            "   talk.politics.guns       0.73      0.94      0.82       364\n",
            "talk.politics.mideast       0.94      0.92      0.93       376\n",
            "   talk.politics.misc       0.83      0.62      0.71       310\n",
            "   talk.religion.misc       0.83      0.61      0.70       251\n",
            "\n",
            "             accuracy                           0.86      3586\n",
            "            macro avg       0.86      0.84      0.85      3586\n",
            "         weighted avg       0.86      0.86      0.86      3586\n",
            "\n"
          ]
        }
      ]
    }
  ]
}